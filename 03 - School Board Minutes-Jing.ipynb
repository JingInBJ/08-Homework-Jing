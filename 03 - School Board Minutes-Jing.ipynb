{
 "cells": [
  {
   "cell_type": "markdown",
   "metadata": {},
   "source": [
    "# School Board Minutes\n",
    "\n",
    "Scrape all of the school board minutes from http://www.mineral.k12.nv.us/pages/School_Board_Minutes\n",
    "\n",
    "Save a CSV called `minutes.csv` with the date and the URL to the file. The date should be formatted as YYYY-MM-DD.\n",
    "\n",
    "**Bonus:** Download the PDF files\n",
    "\n",
    "**Bonus 2:** Use [PDF OCR X](https://solutions.weblite.ca/pdfocrx/index.php) on one of the PDF files and see if it can be converted into text successfully.\n",
    "\n",
    "* **Hint:** If you're just looking for links, there are a lot of other links on that page! Can you look at the link to know whether it links or minutes or not? You'll want to use an \"if\" statement.\n",
    "* **Hint:** You could also filter out bad links later on using pandas instead of when scraping\n",
    "* **Hint:** If you get a weird error that you can't really figure out, you can always tell Python to just ignore it using `try` and `except`, like below. Python will try to do the stuff inside of 'try', but if it hits an error it will skip right out.\n",
    "* **Hint:** Remember the codes at http://strftime.org\n",
    "* **Hint:** If you have a date that you've parsed, you can use `.dt.strftime` to turn it into a specially-formatted string. You use the same codes (like %B etc) that you use for converting strings into dates.\n",
    "\n",
    "```python\n",
    "try:\n",
    "  blah blah your code\n",
    "  your code\n",
    "  your code\n",
    "except:\n",
    "  pass\n",
    "```"
   ]
  },
  {
   "cell_type": "code",
   "execution_count": 1,
   "metadata": {},
   "outputs": [],
   "source": [
    "from selenium import webdriver\n",
    "import time\n",
    "import pandas as pd"
   ]
  },
  {
   "cell_type": "code",
   "execution_count": 2,
   "metadata": {},
   "outputs": [],
   "source": [
    "driver = webdriver.Chrome()\n",
    "driver.get(\"http://www.mineral.k12.nv.us/pages/School_Board_Minutes\")\n",
    "p = driver.find_elements_by_xpath(\"//div[3]/p[position()>3]\")"
   ]
  },
  {
   "cell_type": "code",
   "execution_count": 3,
   "metadata": {},
   "outputs": [],
   "source": [
    "def is_valid_date(strdate):\n",
    "    #Date Testing\n",
    "    try:\n",
    "        time.strptime(strdate, \"%B %d, %Y\")\n",
    "        return True\n",
    "    except:\n",
    "        return False"
   ]
  },
  {
   "cell_type": "code",
   "execution_count": 4,
   "metadata": {},
   "outputs": [],
   "source": [
    "linkList=[]\n",
    "dateList=[]\n",
    "\n",
    "for i in p:\n",
    "    date = i.text\n",
    "    date = date.lstrip()\n",
    "    date = date.rstrip()\n",
    "    #Date Testing\n",
    "    if is_valid_date(date):\n",
    "        #If it is date\n",
    "        try:\n",
    "            link = i.find_element_by_xpath(\"a\").get_attribute('href')\n",
    "        except:\n",
    "            try:\n",
    "                link = i.find_element_by_xpath(\"span/a\").get_attribute('href')\n",
    "            except:\n",
    "                try:\n",
    "                    link = i.find_element_by_xpath(\"span/span/a\").get_attribute('href')\n",
    "                except:\n",
    "                    link = 'None'\n",
    "        linkList.append(link)\n",
    "        dateList.append(date)\n",
    "    elif (date.find(\"CANCELLED\") != -1 or date.find(\"Canceled\") != -1):\n",
    "        #Canceled or not?\n",
    "        date = date.rstrip(' CANCELLED')\n",
    "        date = date.rstrip(' Canceled')\n",
    "        link = 'None'\n",
    "        linkList.append(link)\n",
    "        dateList.append(date)\n"
   ]
  },
  {
   "cell_type": "code",
   "execution_count": 9,
   "metadata": {},
   "outputs": [
    {
     "name": "stdout",
     "output_type": "stream",
     "text": [
      "['http://www.mineral.k12.nv.us/files/6.4.19_minutes.pdf', 'http://www.mineral.k12.nv.us/files/5.28.19_minutes.pdf', 'None', 'http://www.mineral.k12.nv.us/files/5.7.19_minutes.pdf', 'http://www.mineral.k12.nv.us/files/4.23.19_minutes.pdf', 'http://www.mineral.k12.nv.us/files/4.8.19_minutes.pdf', 'http://www.mineral.k12.nv.us/files/3.5.19_minutes.pdf', 'http://www.mineral.k12.nv.us/files/3.5.19.pdf', 'http://www.mineral.k12.nv.us/files/2.26.19_minutes.pdf', 'http://www.mineral.k12.nv.us/files/2.5.19_minutes.pdf', 'http://www.mineral.k12.nv.us/files/January_22_minutes.pdf', 'http://www.mineral.k12.nv.us/files/January_8_minutes.pdf', 'http://www.mineral.k12.nv.us/files/12.20.18_minutes.pdf', 'http://www.mineral.k12.nv.us/files/12.4.18_minutes.pdf', 'http://www.mineral.k12.nv.us/files/11.20.18.pdf', 'None', 'None', 'http://www.mineral.k12.nv.us/files/9.25.18_minutes.pdf', 'http://www.mineral.k12.nv.us/files/9.13.18_minutes.pdf', 'http://www.mineral.k12.nv.us/files/9.4.18.pdf', 'http://www.mineral.k12.nv.us/files/8.21.18_minutes.pdf', 'http://www.mineral.k12.nv.us/files/8.7.18_minutes.pdf', 'http://www.mineral.k12.nv.us/files/7.24.18_minutes.pdf', 'http://www.mineral.k12.nv.us/files/7.10.18_minutes.pdf', 'http://www.mineral.k12.nv.us/files/6.28.18.pdf', 'http://www.mineral.k12.nv.us/files/6.22.18_minutes.pdf', 'http://www.mineral.k12.nv.us/files/6.21.18.pdf', 'http://www.mineral.k12.nv.us/files/6.19.18_minutes.pdf', 'None', 'http://www.mineral.k12.nv.us/files/5.29.18_minutes.pdf', 'None', 'None', 'None', 'http://www.mineral.k12.nv.us/files/4.17.18.pdf', 'http://www.mineral.k12.nv.us/files/april_2,_2018_minutes.pdf', 'None', 'None', 'None', 'http://www.mineral.k12.nv.us/files/3.8.18.pdf', 'http://www.mineral.k12.nv.us/files/march_6,_2018_minutes.pdf', 'http://www.mineral.k12.nv.us/files/feb_20,_2108_minutes.pdf', 'http://www.mineral.k12.nv.us/files/2.6.18_minutes.pdf', 'http://www.mineral.k12.nv.us/files/january_16,_2018_minutes.pdf', 'http://www.mineral.k12.nv.us/files/2.6.18_minutes.pdf', 'http://www.mineral.k12.nv.us/files/1.5.17_minutes.pdf', 'http://www.mineral.k12.nv.us/files/1.26.17_minutes.pdf', 'http://www.mineral.k12.nv.us/files/2.2.17_minutes.pdf', 'http://www.mineral.k12.nv.us/files/2.16.17_minutes.pdf', 'http://www.mineral.k12.nv.us/files/3.2.17__minutes.pdf', 'http://www.mineral.k12.nv.us/files/3.16.17_minutes.pdf', 'http://www.mineral.k12.nv.us/files/4.12.17_minutes.pdf', 'http://www.mineral.k12.nv.us/files/5.1.17_Minutes.pdf', 'http://www.mineral.k12.nv.us/files/5.4.17_minutes.pdf']\n"
     ]
    }
   ],
   "source": [
    "print(linkList)"
   ]
  },
  {
   "cell_type": "code",
   "execution_count": 10,
   "metadata": {},
   "outputs": [
    {
     "name": "stdout",
     "output_type": "stream",
     "text": [
      "['June 4, 2019', 'May 28, 2019', 'May 21, 2019', 'May 7, 2019', 'April 23, 2019', 'April 8, 2019', 'March 19, 2019', 'March 5, 2019', 'February 26, 2019', 'February 5, 2019', 'January 22, 2019', 'January 8, 2019', 'December 20, 2018', 'December 4, 2018', 'November 20, 2018', 'November 7, 2018', 'October 16, 2018', 'September 25, 2018', 'September 13, 2018', 'September 4, 2018', 'August 21, 2018', 'August 7, 2018', 'July 24, 2018', 'July 10, 2018', 'June 28, 2018', 'June 22, 2018', 'June 21, 2018', 'June 19, 2108', 'June 6, 2018', 'May 29, 2018', 'May 22, 2018', 'May 15, 2018', 'May 1, 2018', 'April 17, 2018', 'April 2, 2018', 'March 27, 2018', 'March 22, 2018', 'March 20, 2018', 'March 8, 2018', 'March 6, 2018', 'February 20, 2018', 'February 6, 2018', 'January 16, 2018', 'January 2, 2018', 'January 5, 2017', 'January 26, 2017', 'February 2, 2017', 'February 16, 2017', 'March 2, 2017', 'March 16, 2017', 'April 12, 2017', 'May 1, 2017', 'May 4, 2017']\n"
     ]
    }
   ],
   "source": [
    "print(dateList)"
   ]
  },
  {
   "cell_type": "code",
   "execution_count": 6,
   "metadata": {},
   "outputs": [
    {
     "data": {
      "text/html": [
       "<div>\n",
       "<style scoped>\n",
       "    .dataframe tbody tr th:only-of-type {\n",
       "        vertical-align: middle;\n",
       "    }\n",
       "\n",
       "    .dataframe tbody tr th {\n",
       "        vertical-align: top;\n",
       "    }\n",
       "\n",
       "    .dataframe thead th {\n",
       "        text-align: right;\n",
       "    }\n",
       "</style>\n",
       "<table border=\"1\" class=\"dataframe\">\n",
       "  <thead>\n",
       "    <tr style=\"text-align: right;\">\n",
       "      <th></th>\n",
       "      <th>Date</th>\n",
       "      <th>Link</th>\n",
       "    </tr>\n",
       "  </thead>\n",
       "  <tbody>\n",
       "    <tr>\n",
       "      <th>0</th>\n",
       "      <td>June 4, 2019</td>\n",
       "      <td>http://www.mineral.k12.nv.us/files/6.4.19_minu...</td>\n",
       "    </tr>\n",
       "    <tr>\n",
       "      <th>1</th>\n",
       "      <td>May 28, 2019</td>\n",
       "      <td>http://www.mineral.k12.nv.us/files/5.28.19_min...</td>\n",
       "    </tr>\n",
       "    <tr>\n",
       "      <th>2</th>\n",
       "      <td>May 21, 2019</td>\n",
       "      <td>None</td>\n",
       "    </tr>\n",
       "    <tr>\n",
       "      <th>3</th>\n",
       "      <td>May 7, 2019</td>\n",
       "      <td>http://www.mineral.k12.nv.us/files/5.7.19_minu...</td>\n",
       "    </tr>\n",
       "    <tr>\n",
       "      <th>4</th>\n",
       "      <td>April 23, 2019</td>\n",
       "      <td>http://www.mineral.k12.nv.us/files/4.23.19_min...</td>\n",
       "    </tr>\n",
       "  </tbody>\n",
       "</table>\n",
       "</div>"
      ],
      "text/plain": [
       "             Date                                               Link\n",
       "0    June 4, 2019  http://www.mineral.k12.nv.us/files/6.4.19_minu...\n",
       "1    May 28, 2019  http://www.mineral.k12.nv.us/files/5.28.19_min...\n",
       "2    May 21, 2019                                               None\n",
       "3     May 7, 2019  http://www.mineral.k12.nv.us/files/5.7.19_minu...\n",
       "4  April 23, 2019  http://www.mineral.k12.nv.us/files/4.23.19_min..."
      ]
     },
     "execution_count": 6,
     "metadata": {},
     "output_type": "execute_result"
    }
   ],
   "source": [
    "total = dict(zip(['Date', 'Link'],[dateList, linkList]))\n",
    "table = pd.DataFrame(total)\n",
    "table.head()"
   ]
  },
  {
   "cell_type": "code",
   "execution_count": null,
   "metadata": {},
   "outputs": [],
   "source": [
    "table.to_csv(\"SchoolBoardMinutes.csv\", index=False)"
   ]
  }
 ],
 "metadata": {
  "kernelspec": {
   "display_name": "Python 3",
   "language": "python",
   "name": "python3"
  },
  "language_info": {
   "codemirror_mode": {
    "name": "ipython",
    "version": 3
   },
   "file_extension": ".py",
   "mimetype": "text/x-python",
   "name": "python",
   "nbconvert_exporter": "python",
   "pygments_lexer": "ipython3",
   "version": "3.7.0"
  }
 },
 "nbformat": 4,
 "nbformat_minor": 2
}
