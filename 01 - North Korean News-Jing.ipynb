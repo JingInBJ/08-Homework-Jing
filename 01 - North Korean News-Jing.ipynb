{
 "cells": [
  {
   "cell_type": "markdown",
   "metadata": {},
   "source": [
    "# North Korean News\n",
    "\n",
    "Scrape the North Korean news agency http://kcna.kp\n",
    "\n",
    "Save a CSV called `nk-news.csv`. This file should include:\n",
    "\n",
    "* The **article headline**\n",
    "* The value of **`onclick`** (they don't have normal links)\n",
    "* The **article ID** (for example, the article ID for `fn_showArticle(\"AR0125885\", \"\", \"NT00\", \"L\")` is `AR0125885`\n",
    "\n",
    "The last part is easiest using pandas. Be sure you don't save the index!\n",
    "\n",
    "* _**Tip:** If you're using requests+BeautifulSoup, you can always look at response.text to see if the page looks like what you think it looks like_\n",
    "* _**Tip:** Check your URL to make sure it is what you think it should be!_\n",
    "* _**Tip:** Does it look different if you scrape with BeautifulSoup compared to if you scrape it with Selenium?_\n",
    "* _**Tip:** For the last part, how do you pull out part of a string from a longer string?_\n",
    "* _**Tip:** `expand=False` is helpful if you want to assign a single new column when extracting_\n",
    "* _**Tip:** `(` and `)` mean something special in regular expressions, so you have to say \"no really seriously I mean `(`\" by using `\\(` instead_\n",
    "* _**Tip:** if your `.*` is taking up too much stuff, you can try `.*?` instead, which instead of \"take as much as possible\" it means \"take only as much as needed\"_"
   ]
  },
  {
   "cell_type": "code",
   "execution_count": 7,
   "metadata": {},
   "outputs": [],
   "source": [
    "from selenium import webdriver"
   ]
  },
  {
   "cell_type": "code",
   "execution_count": 8,
   "metadata": {},
   "outputs": [],
   "source": [
    "driver = webdriver.Chrome()"
   ]
  },
  {
   "cell_type": "code",
   "execution_count": 9,
   "metadata": {},
   "outputs": [],
   "source": [
    "driver.get('http://kcna.kp/kcna.user.home.retrieveHomeInfoList.kcmsf;jsessionid=04060941FE21DAF14B05CC5765C71188')"
   ]
  },
  {
   "cell_type": "code",
   "execution_count": 71,
   "metadata": {},
   "outputs": [],
   "source": [
    "#headlines = driver.find_elements_by_class_name('harticle15_subtitle')\n",
    "headlines = driver.find_elements_by_class_name('titlebet')\n",
    "headline_list=[]\n",
    "for headline in headlines:\n",
    "    headline_list.append(headline.text)"
   ]
  },
  {
   "cell_type": "code",
   "execution_count": 65,
   "metadata": {},
   "outputs": [],
   "source": [
    "## notes  如果不带for，直接把x设置为一个variable，下一个cell直接出现，只能得到list里最后一项\n",
    "#for x in [1, 3, 5]:\n",
    "    #print(x)\n",
    "#x\n",
    "\n",
    "#得到结果X是5"
   ]
  },
  {
   "cell_type": "code",
   "execution_count": 73,
   "metadata": {},
   "outputs": [],
   "source": [
    "titlebets = driver.find_elements_by_class_name('titlebet')\n",
    "\n",
    "click_list=[]\n",
    "for titlebet in titlebets:\n",
    "    click_list.append(titlebet.get_attribute('onclick'))\n",
    "\n",
    "\n",
    "\n",
    " "
   ]
  },
  {
   "cell_type": "code",
   "execution_count": 76,
   "metadata": {},
   "outputs": [],
   "source": [
    "titlebets = driver.find_elements_by_class_name('titlebet')\n",
    "id_list = []\n",
    "for titlebet in titlebets:\n",
    "    id_list.append(titlebet.get_attribute('onclick')[16:25])"
   ]
  },
  {
   "cell_type": "code",
   "execution_count": 78,
   "metadata": {},
   "outputs": [],
   "source": [
    "import pandas as pd\n"
   ]
  },
  {
   "cell_type": "code",
   "execution_count": 82,
   "metadata": {},
   "outputs": [],
   "source": [
    "total = dict(zip(['title', 'on_click', 'id'],\n",
    "                [headline_list, click_list, id_list]))\n",
    "    \n"
   ]
  },
  {
   "cell_type": "code",
   "execution_count": 84,
   "metadata": {},
   "outputs": [],
   "source": [
    "df=pd.DataFrame(total)"
   ]
  },
  {
   "cell_type": "code",
   "execution_count": 88,
   "metadata": {},
   "outputs": [
    {
     "data": {
      "text/html": [
       "<div>\n",
       "<style scoped>\n",
       "    .dataframe tbody tr th:only-of-type {\n",
       "        vertical-align: middle;\n",
       "    }\n",
       "\n",
       "    .dataframe tbody tr th {\n",
       "        vertical-align: top;\n",
       "    }\n",
       "\n",
       "    .dataframe thead th {\n",
       "        text-align: right;\n",
       "    }\n",
       "</style>\n",
       "<table border=\"1\" class=\"dataframe\">\n",
       "  <thead>\n",
       "    <tr style=\"text-align: right;\">\n",
       "      <th></th>\n",
       "      <th>title</th>\n",
       "      <th>on_click</th>\n",
       "      <th>id</th>\n",
       "    </tr>\n",
       "  </thead>\n",
       "  <tbody>\n",
       "    <tr>\n",
       "      <th>0</th>\n",
       "      <td>Delegation of Koreans in Japan Pay Tribute to ...</td>\n",
       "      <td>fn_showArticle(\"AR0126313\", \"\", \"NT21\", \"L\")</td>\n",
       "      <td>AR0126313</td>\n",
       "    </tr>\n",
       "    <tr>\n",
       "      <th>1</th>\n",
       "      <td>Greetings to Seychellois President</td>\n",
       "      <td>fn_showArticle(\"AR0126295\", \"\", \"NT21\", \"L\")</td>\n",
       "      <td>AR0126295</td>\n",
       "    </tr>\n",
       "    <tr>\n",
       "      <th>2</th>\n",
       "      <td>Venezuelan City's Highest Order Awarded to Sup...</td>\n",
       "      <td>fn_showArticle(\"AR0126287\", \"\", \"NT21\", \"L\")</td>\n",
       "      <td>AR0126287</td>\n",
       "    </tr>\n",
       "    <tr>\n",
       "      <th>3</th>\n",
       "      <td>Xi Jinping to Visit DPRK</td>\n",
       "      <td>fn_showArticle(\"AR0126286\", \"\", \"NT21\", \"L\")</td>\n",
       "      <td>AR0126286</td>\n",
       "    </tr>\n",
       "    <tr>\n",
       "      <th>4</th>\n",
       "      <td>Kim Jae Ryong Inspects Tokchon Area Coal-Minin...</td>\n",
       "      <td>fn_showArticle(\"AR0126281\", \"\", \"NT21\", \"L\")</td>\n",
       "      <td>AR0126281</td>\n",
       "    </tr>\n",
       "  </tbody>\n",
       "</table>\n",
       "</div>"
      ],
      "text/plain": [
       "                                               title  \\\n",
       "0  Delegation of Koreans in Japan Pay Tribute to ...   \n",
       "1                 Greetings to Seychellois President   \n",
       "2  Venezuelan City's Highest Order Awarded to Sup...   \n",
       "3                           Xi Jinping to Visit DPRK   \n",
       "4  Kim Jae Ryong Inspects Tokchon Area Coal-Minin...   \n",
       "\n",
       "                                       on_click         id  \n",
       "0  fn_showArticle(\"AR0126313\", \"\", \"NT21\", \"L\")  AR0126313  \n",
       "1  fn_showArticle(\"AR0126295\", \"\", \"NT21\", \"L\")  AR0126295  \n",
       "2  fn_showArticle(\"AR0126287\", \"\", \"NT21\", \"L\")  AR0126287  \n",
       "3  fn_showArticle(\"AR0126286\", \"\", \"NT21\", \"L\")  AR0126286  \n",
       "4  fn_showArticle(\"AR0126281\", \"\", \"NT21\", \"L\")  AR0126281  "
      ]
     },
     "execution_count": 88,
     "metadata": {},
     "output_type": "execute_result"
    }
   ],
   "source": [
    "df.head()"
   ]
  },
  {
   "cell_type": "code",
   "execution_count": 86,
   "metadata": {},
   "outputs": [],
   "source": [
    "df.to_csv(\"nk-news.csv\", index=False)"
   ]
  }
 ],
 "metadata": {
  "kernelspec": {
   "display_name": "Python 3",
   "language": "python",
   "name": "python3"
  },
  "language_info": {
   "codemirror_mode": {
    "name": "ipython",
    "version": 3
   },
   "file_extension": ".py",
   "mimetype": "text/x-python",
   "name": "python",
   "nbconvert_exporter": "python",
   "pygments_lexer": "ipython3",
   "version": "3.7.0"
  }
 },
 "nbformat": 4,
 "nbformat_minor": 2
}
